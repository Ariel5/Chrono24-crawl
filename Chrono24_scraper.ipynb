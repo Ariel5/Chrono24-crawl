{
 "cells": [
  {
   "cell_type": "code",
   "execution_count": 1,
   "id": "6ac1c4e5-adf6-4d32-92e5-5adb0386bd00",
   "metadata": {
    "colab": {
     "base_uri": "https://localhost:8080/"
    },
    "id": "6ac1c4e5-adf6-4d32-92e5-5adb0386bd00",
    "outputId": "1974287b-de00-4b7c-8cbd-0b68c924aaf8"
   },
   "outputs": [],
   "source": [
    "import re\n",
    "import time\n",
    "import random\n",
    "import requests\n",
    "import unidecode\n",
    "import pandas as pd\n",
    "from bs4 import BeautifulSoup as bs\n"
   ]
  },
  {
   "cell_type": "code",
   "execution_count": 2,
   "id": "07e14f5e-2fe6-4f51-9b56-9b699bfcfa2b",
   "metadata": {
    "id": "07e14f5e-2fe6-4f51-9b56-9b699bfcfa2b"
   },
   "outputs": [],
   "source": [
    "def get_brand_list():\n",
    "    url = 'https://www.chrono24.com/search/browse.htm?char=A-Z'\n",
    "    headers = {'accept': '*/*',\n",
    " 'accept-encoding': 'gzip, deflate',\n",
    " 'accept-language': 'pt-PT,pt;q=0.9,en-US;q=0.8,en;q=0.7',\n",
    " 'cookie': 'uid=9c718efe-dcca-4e71-b92d-c3dd7b7f06cc',\n",
    " 'referer': 'https://a3853408329f84107a5d2b90c11d7c4b.safeframe.googlesyndication.com/',\n",
    " 'sec-ch-ua': '\" Not A;Brand\";v=\"99\", \"Chromium\";v=\"98\", \"Google Chrome\";v=\"98\"',\n",
    " 'sec-ch-ua-mobile': '?0',\n",
    " 'sec-ch-ua-platform': '\"Windows\"',\n",
    " 'sec-fetch-dest': 'empty',\n",
    " 'sec-fetch-mode': 'cors',\n",
    " 'sec-fetch-site': 'same-origin',\n",
    " 'user-agent': 'Mozilla/5.0 (Windows NT 10.0; Win64; x64) AppleWebKit/537.36 (KHTML, like Gecko) Chrome/98.0.4758.82 Safari/537.36'}\n",
    "    \n",
    "    \n",
    "    r = requests.get(url, headers=headers)\n",
    "\n",
    "    ChronoBS = bs(r.text, 'html.parser')\n",
    "\n",
    "    get_brands = ChronoBS.find_all(\"div\", {\"class\":\"brand-list\"})[-1].get_text()\n",
    "\n",
    "    brands = []\n",
    "\n",
    "    def Convert(string):\n",
    "        normalized_string = unidecode.unidecode(string)\n",
    "        brands = list(normalized_string.split(\"\\n\"))\n",
    "        new_list=[x for x in brands if len(x)>=2]\n",
    "        return new_list\n",
    "\n",
    "    r = [re.sub('[^a-zA-Z0-9]+', '', _) for _ in Convert(get_brands)]\n",
    "\n",
    "    brands_df = pd.DataFrame(r, columns = ['Brand'])\n",
    "    brands_df.drop(brands_df.tail(1).index,inplace=True)\n",
    "    brands_df = brands_df.applymap(lambda s: s.lower() if type(s) == str else s)\n",
    "    brands_df.to_csv('brands_list.csv', sep = ',', index = False)\n",
    "    return brands_df"
   ]
  },
  {
   "cell_type": "code",
   "execution_count": 3,
   "id": "3ffce4a8-6d0f-4cce-9fb8-470734a4ed12",
   "metadata": {
    "id": "3ffce4a8-6d0f-4cce-9fb8-470734a4ed12"
   },
   "outputs": [],
   "source": [
    "# get_brand_list()"
   ]
  },
  {
   "cell_type": "code",
   "execution_count": 4,
   "id": "234199d9-1008-4352-b2f0-3e23a398c351",
   "metadata": {
    "id": "234199d9-1008-4352-b2f0-3e23a398c351"
   },
   "outputs": [],
   "source": [
    "def get_links_from_single_page(url):   \n",
    "    links = []\n",
    "    \n",
    "    #to add reference to variable brand. Rolex link is placeholder\n",
    "    #url = f'https://www.chrono24.com/{brand}/index.htm'\n",
    "\n",
    "    headers = {'accept': '*/*',\n",
    " 'accept-encoding': 'gzip, deflate',\n",
    " 'accept-language': 'pt-PT,pt;q=0.9,en-US;q=0.8,en;q=0.7',\n",
    " 'cookie': 'uid=9c718efe-dcca-4e71-b92d-c3dd7b7f06cc',\n",
    " 'referer': 'https://a3853408329f84107a5d2b90c11d7c4b.safeframe.googlesyndication.com/',\n",
    " 'sec-ch-ua': '\" Not A;Brand\";v=\"99\", \"Chromium\";v=\"98\", \"Google Chrome\";v=\"98\"',\n",
    " 'sec-ch-ua-mobile': '?0',\n",
    " 'sec-ch-ua-platform': '\"Windows\"',\n",
    " 'sec-fetch-dest': 'empty',\n",
    " 'sec-fetch-mode': 'cors',\n",
    " 'sec-fetch-site': 'same-origin',\n",
    " 'user-agent': 'Mozilla/5.0 (Windows NT 10.0; Win64; x64) AppleWebKit/537.36 (KHTML, like Gecko) Chrome/98.0.4758.82 Safari/537.36'}\n",
    "\n",
    "\n",
    "    r = requests.get(url, headers=headers)\n",
    "\n",
    "    soup = bs(r.text, 'html.parser')\n",
    "\n",
    "    data = soup.findAll('div', {\"class\":\"article-item-container wt-search-result\"})\n",
    "\n",
    "    for div in data:\n",
    "        link = div.findAll('a')\n",
    "        for a in link:\n",
    "            links.append(\"https://www.chrono24.com\" + a['href'])\n",
    "\n",
    "    links.remove('https://www.chrono24.com/about-us.htm')\n",
    "    \n",
    "    return links"
   ]
  },
  {
   "cell_type": "code",
   "execution_count": 5,
   "id": "7949436c-aa32-49df-9bba-09e43a9664ac",
   "metadata": {
    "id": "7949436c-aa32-49df-9bba-09e43a9664ac"
   },
   "outputs": [],
   "source": [
    "#get_links_from_single_page('audemarspiguet')"
   ]
  },
  {
   "cell_type": "code",
   "execution_count": 6,
   "id": "363d3cac-60b8-4812-a303-71aec2c71582",
   "metadata": {
    "id": "363d3cac-60b8-4812-a303-71aec2c71582"
   },
   "outputs": [],
   "source": [
    "def get_max_pages(brand):\n",
    "    \n",
    "    #to add reference to variable brand. Rolex link is placeholder\n",
    "    url = f'https://www.chrono24.com/{brand}/index.htm'\n",
    "\n",
    "    headers = {'accept': '*/*',\n",
    " 'accept-encoding': 'gzip, deflate',\n",
    " 'accept-language': 'pt-PT,pt;q=0.9,en-US;q=0.8,en;q=0.7',\n",
    " 'cookie': 'uid=9c718efe-dcca-4e71-b92d-c3dd7b7f06cc',\n",
    " 'referer': 'https://a3853408329f84107a5d2b90c11d7c4b.safeframe.googlesyndication.com/',\n",
    " 'sec-ch-ua': '\" Not A;Brand\";v=\"99\", \"Chromium\";v=\"98\", \"Google Chrome\";v=\"98\"',\n",
    " 'sec-ch-ua-mobile': '?0',\n",
    " 'sec-ch-ua-platform': '\"Windows\"',\n",
    " 'sec-fetch-dest': 'empty',\n",
    " 'sec-fetch-mode': 'cors',\n",
    " 'sec-fetch-site': 'same-origin',\n",
    " 'user-agent': 'Mozilla/5.0 (Windows NT 10.0; Win64; x64) AppleWebKit/537.36 (KHTML, like Gecko) Chrome/98.0.4758.82 Safari/537.36'}\n",
    "\n",
    "    r = requests.get(url, headers=headers)\n",
    "\n",
    "    soup = bs(r.text, 'html.parser')\n",
    "\n",
    "    data = soup.findAll('ul', {\"class\":\"pagination list-unstyled pull-xs-none pull-sm-right\"})\n",
    "    \n",
    "    li = []\n",
    "    for ultag in data:\n",
    "        for litag in ultag.find_all('li'):\n",
    "            normalized_li = litag.text.split(\"\\n\")\n",
    "            new_list=[x for x in normalized_li if len(x)>=1]\n",
    "            li.append(new_list)\n",
    "    flat_li = [item for sublist in li for item in sublist]\n",
    "    flat_li = [re.sub('[^a-zA-Z0-9]+', '', _) for _ in flat_li]\n",
    "\n",
    "    # index = 1\n",
    "\n",
    "    if len(flat_li) > 1:\n",
    "        index = int(flat_li[-2])\n",
    "    else:\n",
    "        index = 1\n",
    "\n",
    "    return index"
   ]
  },
  {
   "cell_type": "code",
   "execution_count": 7,
   "id": "45165592-d62e-4f33-b269-f9811ed156da",
   "metadata": {
    "id": "45165592-d62e-4f33-b269-f9811ed156da"
   },
   "outputs": [],
   "source": [
    "\n",
    "#Get ad info... brand, model, reference, etc.\n",
    "\n",
    "def fetch_attributes(url):\n",
    "\n",
    "    #to add reference to variable brand. Rolex link is placeholder\n",
    "    #url = 'https://www.chrono24.com/rolex/rolex-gmt-master-ii-2020-batman--batgirl-ref-126710blnr-ceramic-jubilee-stainless-steel--id20749471.htm'\n",
    "\n",
    "    headers = {'accept': '*/*',\n",
    " 'accept-encoding': 'gzip, deflate',\n",
    " 'accept-language': 'pt-PT,pt;q=0.9,en-US;q=0.8,en;q=0.7',\n",
    " 'cookie': 'uid=9c718efe-dcca-4e71-b92d-c3dd7b7f06cc',\n",
    " 'referer': 'https://a3853408329f84107a5d2b90c11d7c4b.safeframe.googlesyndication.com/',\n",
    " 'sec-ch-ua': '\" Not A;Brand\";v=\"99\", \"Chromium\";v=\"98\", \"Google Chrome\";v=\"98\"',\n",
    " 'sec-ch-ua-mobile': '?0',\n",
    " 'sec-ch-ua-platform': '\"Windows\"',\n",
    " 'sec-fetch-dest': 'empty',\n",
    " 'sec-fetch-mode': 'cors',\n",
    " 'sec-fetch-site': 'same-origin',\n",
    " 'user-agent': 'Mozilla/5.0 (Windows NT 10.0; Win64; x64) AppleWebKit/537.36 (KHTML, like Gecko) Chrome/98.0.4758.82 Safari/537.36'}\n",
    "\n",
    "    r = requests.get(url, headers=headers)\n",
    "\n",
    "    soup = bs(r.text, 'html.parser')\n",
    "    \n",
    "    if soup.findAll('span', {\"class\":'js-price-shipping-country'}):\n",
    "        price = {'Price' : soup.findAll('span', {\"class\":'js-price-shipping-country'})[0].get_text()}\n",
    "    else:\n",
    "        price = {'Price' : soup.findAll('span', {\"class\":'price-md'})[0].get_text()}\n",
    "       \n",
    "    data = soup.findAll('div', {\"class\":\"col-xs-24 col-md-12 m-b-6 m-b-md-0\"})\n",
    "    \n",
    "    li = []\n",
    "    for tag in data:\n",
    "            for trtag in tag.find_all('tr'):\n",
    "                normalized_tr = trtag.text.split(\"\\n\")\n",
    "                new_list=[x for x in normalized_tr if len(x)>=2]\n",
    "                li.append(new_list)\n",
    "    attributes_dict = {x[0]: x[1:] for x in li}\n",
    "    new_dict = {k: str(v).replace('[','').replace(']', '') for k,v in attributes_dict.items()}\n",
    "    new_dict = {k: str(v).replace(\"'\",'').strip() for k,v in new_dict.items()}\n",
    "    new_dict = {k: str(v).replace('\"','').strip() for k,v in new_dict.items()}\n",
    "    clean_attributes = {k: v for k, v in new_dict.items() if v != ''}\n",
    "    clean_attributes.update(price)\n",
    "\n",
    "    return clean_attributes"
   ]
  },
  {
   "cell_type": "code",
   "execution_count": 8,
   "id": "9a277248-9cbd-4475-bfa6-889dd3a0df0d",
   "metadata": {
    "id": "9a277248-9cbd-4475-bfa6-889dd3a0df0d"
   },
   "outputs": [],
   "source": [
    "brands_list = pd.read_csv('brands_list.csv')\n",
    "#brands_list"
   ]
  },
  {
   "cell_type": "code",
   "execution_count": 9,
   "id": "f9f360e6-0797-443d-8bdb-f84e0303e5d9",
   "metadata": {
    "id": "f9f360e6-0797-443d-8bdb-f84e0303e5d9"
   },
   "outputs": [],
   "source": [
    "def get_all_links():\n",
    "\n",
    "    all_links = []\n",
    "    for brand in brands_list['Brand']:\n",
    "        \n",
    "        time.sleep(0.75)\n",
    "        \n",
    "        for index in range(1, get_max_pages(brand)+1):\n",
    "            \n",
    "            if index == 1:\n",
    "                all_links.append(f'https://www.chrono24.com/{brand}/index.htm')\n",
    "                print (f'https://www.chrono24.com/{brand}/index.htm')\n",
    "            else:\n",
    "                all_links.append(f'https://www.chrono24.com/{brand}/index-{index}.htm')\n",
    "                print (f'https://www.chrono24.com/{brand}/index-{index}.htm')\n",
    "#         time.sleep(0.25)\n",
    "\n",
    "\n",
    "    links_df = pd.DataFrame(all_links, columns = ['Brand'])\n",
    "    links_df.drop(links_df.tail(1).index,inplace=True)\n",
    "    links_df = links_df.applymap(lambda s: s.lower() if type(s) == str else s)\n",
    "    links_df.to_csv('link_list.csv', sep = ',', index = False)\n",
    "\n",
    "    #return all_links  "
   ]
  },
  {
   "cell_type": "code",
   "execution_count": 10,
   "id": "8-YFX58LQNIW",
   "metadata": {
    "id": "8-YFX58LQNIW",
    "scrolled": true,
    "tags": []
   },
   "outputs": [],
   "source": [
    "#get_all_links()\n",
    "\n"
   ]
  },
  {
   "cell_type": "code",
   "execution_count": 11,
   "id": "8b8Pd3yVbl5T",
   "metadata": {
    "id": "8b8Pd3yVbl5T"
   },
   "outputs": [],
   "source": [
    "link_list = pd.read_csv('link_list.csv')\n",
    "#link_list"
   ]
  },
  {
   "cell_type": "code",
   "execution_count": 12,
   "id": "3dNFknpyrOB0",
   "metadata": {
    "id": "3dNFknpyrOB0"
   },
   "outputs": [],
   "source": [
    "def get_all_ads():\n",
    "\n",
    "    ad_links = []\n",
    "    for index, link in enumerate(link_list['Brand']):\n",
    "            ad = (get_links_from_single_page(link))\n",
    "            ad_links.append(ad)\n",
    "            \n",
    "            if index % 50 == 0:\n",
    "                print(str(ad))\n",
    "            \n",
    "    flat_li = [item for sublist in ad_links for item in sublist]\n",
    "    flat_li.remove('https://www.chrono24.com/about-us.htm')\n",
    "    \n",
    "    ad_df = pd.DataFrame(flat_li, columns = ['Brand'])\n",
    "    ad_df.drop(ad_df.tail(1).index,inplace=True)\n",
    "    ad_df.to_csv('ad_list.csv', sep = ',', index = False)\n",
    "    \n",
    "    \n",
    "#     return flat_li"
   ]
  },
  {
   "cell_type": "code",
   "execution_count": 13,
   "id": "ea62d0a9-9fb0-4d25-a3f9-b0a32833c9e2",
   "metadata": {
    "id": "_rztW0AyrOg0",
    "scrolled": true,
    "tags": []
   },
   "outputs": [],
   "source": [
    "#get_all_ads()"
   ]
  },
  {
   "cell_type": "code",
   "execution_count": 14,
   "id": "8a694d93-e48a-4e0a-a14f-1d91a3210800",
   "metadata": {},
   "outputs": [],
   "source": [
    "ad_list = pd.read_csv('ad_list.csv')\n",
    "ad_list = ad_list[ad_list.Brand != 'https://www.chrono24.com/about-us.htm']\n",
    "ad_list = ad_list[~ad_list['Brand'].astype(str).str.startswith('https://www.chrono24.com/rolex/')]\n",
    "\n",
    "#ad_list"
   ]
  },
  {
   "cell_type": "code",
   "execution_count": 15,
   "id": "fo9BfW9UrOjo",
   "metadata": {
    "id": "fo9BfW9UrOjo"
   },
   "outputs": [],
   "source": [
    "def get_all_attributes():\n",
    "    \n",
    "    base_dict = {        'Listing code': [],\n",
    "                         'Price': [],\n",
    "                         'Brand': [],\n",
    "                         'Model': [],\n",
    "                         'Reference number': [],\n",
    "                         'Movement': [],\n",
    "                         'Case material': [],\n",
    "                         'Bracelet material': [],\n",
    "                         'Year of production': [],\n",
    "                         'Condition': [],\n",
    "                         'Scope of delivery': [],\n",
    "                         'Gender': [],\n",
    "                         'Location': [],\n",
    "                         'Movement/Caliber': [],\n",
    "                         'Base caliber': [],\n",
    "                         'Power reserve': [],\n",
    "                         'Number of jewels': [],\n",
    "                         'Case diameter': [],\n",
    "                         'Water resistance': [],\n",
    "                         'Bezel material': [],\n",
    "                         'Crystal': [],\n",
    "                         'Dial': [],\n",
    "                         'Dial numerals': [],\n",
    "                         'Bracelet color': [],\n",
    "                         'Clasp': [],\n",
    "                         'Clasp material': []}\n",
    "\n",
    "\n",
    "\n",
    "    for index, link in enumerate(ad_list['Brand']):\n",
    "        \n",
    "        try:\n",
    "            dict_2 = fetch_attributes(link)\n",
    "            if index % 100 == 0:\n",
    "                print(dict_2)\n",
    "            for k, v in dict_2.items():\n",
    "                if k in base_dict.keys():\n",
    "                    base_dict[k].append(v)\n",
    "                #time.sleep(random.uniform(0.1, 0.5)) \n",
    "                \n",
    "        except requests.exceptions.RequestException as e:\n",
    "            print(f'Link exceeded max retries: {link}')\n",
    "            continue\n",
    "            \n",
    "            \n",
    "        except IndexError as error:\n",
    "            print(error)\n",
    "            print(f'No price for {link}')\n",
    "            continue\n",
    "            \n",
    "            \n",
    "    return base_dict"
   ]
  },
  {
   "cell_type": "code",
   "execution_count": 16,
   "id": "23EkuPqArOmc",
   "metadata": {
    "id": "23EkuPqArOmc",
    "scrolled": true,
    "tags": []
   },
   "outputs": [],
   "source": [
    "#power = get_all_attributes()"
   ]
  },
  {
   "cell_type": "code",
   "execution_count": 17,
   "id": "0f572314-c5a4-49b9-bb47-59ab4a80f182",
   "metadata": {},
   "outputs": [],
   "source": [
    "def get_ad_csv(input: dict):\n",
    "    \n",
    "    attributes_df = pd.DataFrame().from_dict(input, orient = 'index').transpose()\n",
    "    attributes_df.to_csv('attributes_list.csv', sep = ',', index = False)\n",
    "    "
   ]
  },
  {
   "cell_type": "code",
   "execution_count": 18,
   "id": "8797bfdf-fba2-4a16-9d35-f5d076c851b0",
   "metadata": {},
   "outputs": [],
   "source": [
    "#get_ad_csv(power)"
   ]
  },
  {
   "cell_type": "code",
   "execution_count": 19,
   "id": "48230731-8b85-4bd6-97cb-4a55cbfa32c1",
   "metadata": {},
   "outputs": [],
   "source": [
    "#power"
   ]
  },
  {
   "cell_type": "code",
   "execution_count": null,
   "id": "4277c46c-a261-4306-afae-9adfa814eb19",
   "metadata": {},
   "outputs": [],
   "source": []
  }
 ],
 "metadata": {
  "colab": {
   "collapsed_sections": [],
   "name": "Chrono24 scraper.ipynb",
   "provenance": []
  },
  "kernelspec": {
   "display_name": "Python 3 (ipykernel)",
   "language": "python",
   "name": "python3"
  },
  "language_info": {
   "codemirror_mode": {
    "name": "ipython",
    "version": 3
   },
   "file_extension": ".py",
   "mimetype": "text/x-python",
   "name": "python",
   "nbconvert_exporter": "python",
   "pygments_lexer": "ipython3",
   "version": "3.9.7"
  }
 },
 "nbformat": 4,
 "nbformat_minor": 5
}
